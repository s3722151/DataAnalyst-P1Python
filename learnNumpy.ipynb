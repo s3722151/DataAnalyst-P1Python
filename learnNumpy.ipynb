{
 "cells": [
  {
   "cell_type": "markdown",
   "id": "16619b41-1e71-4265-b0b3-51183ce44799",
   "metadata": {},
   "source": [
    "# https://www.w3schools.com/python/numpy/numpy_intro.asp\n",
    "\n",
    "#What is NumPy?\n",
    "# NumPy is a Python library used for working with arrays.\n",
    "    \n",
    "#Why Use NumPy?\n",
    "# In Python we have lists that serve the purpose of arrays, but they are slow to process.\n",
    "# NumPy aims to provide an array object that is up to 50x faster than traditional Python lists.\n",
    "# The array object in NumPy is called ndarray, it provides a lot of supporting functions that make working with ndarray very easy.\n",
    "\n",
    "#Why is NumPy Faster Than Lists?\n",
    "# NumPy arrays are stored at one continuous place in memory unlike lists, so processes can access and manipulate them very efficiently.\n",
    "# This behavior is called locality of reference in computer science.\n",
    "# This is the main reason why NumPy is faster than lists. Also it is optimized to work with latest CPU architectures."
   ]
  },
  {
   "cell_type": "markdown",
   "id": "2db8390a-5904-41ef-96e3-191b3c3e6c4a",
   "metadata": {},
   "source": [
    "#Getting started with numpy\n",
    "https://www.w3schools.com/python/numpy/numpy_getting_started.asp"
   ]
  },
  {
   "cell_type": "code",
   "execution_count": 3,
   "id": "3a739961-9072-4fce-bec3-bae7af7b1141",
   "metadata": {},
   "outputs": [
    {
     "name": "stdout",
     "output_type": "stream",
     "text": [
      "[1 2 3 4 5]\n",
      "1.26.4\n"
     ]
    }
   ],
   "source": [
    "import numpy as np\n",
    "arr = np.array([1, 2, 3, 4, 5])\n",
    "print(arr)\n",
    "print(np.__version__) # To get the version\n"
   ]
  },
  {
   "cell_type": "markdown",
   "id": "dba8388a-8e3b-4281-83a4-a22fe8e4497b",
   "metadata": {},
   "source": [
    "Creating Arrays"
   ]
  },
  {
   "cell_type": "code",
   "execution_count": 5,
   "id": "e3cfadd0-f37b-437b-9552-116451bd67ee",
   "metadata": {},
   "outputs": [
    {
     "name": "stdout",
     "output_type": "stream",
     "text": [
      "[1 2 3 4 5]\n"
     ]
    }
   ],
   "source": [
    "#Normal Arrays\n",
    "import numpy as np\n",
    "arr = np.array((1, 2, 3, 4, 5))\n",
    "print(arr)"
   ]
  },
  {
   "cell_type": "code",
   "execution_count": 7,
   "id": "29127f94-40b6-4ce6-8393-03aab45f7112",
   "metadata": {},
   "outputs": [
    {
     "name": "stdout",
     "output_type": "stream",
     "text": [
      "0\n",
      "1\n",
      "2\n",
      "3\n"
     ]
    }
   ],
   "source": [
    "#Check the dimensions of an array\n",
    "\n",
    "a = np.array(42)\n",
    "b = np.array([1, 2, 3, 4, 5])\n",
    "c = np.array([[1, 2, 3], \n",
    "\t\t\t  [4, 5, 6]])\n",
    "d = np.array([\n",
    "\t\t\t  [\n",
    "\t\t\t   [1, 2, 3],[4, 5, 6]\n",
    "              ], \n",
    "               [\n",
    "              \t[1, 2, 3],[4, 5, 6]\n",
    "               ]\n",
    "              ])\n",
    "\n",
    "print(a.ndim)\n",
    "print(b.ndim)\n",
    "print(c.ndim)\n",
    "print(d.ndim)\n",
    "# For the 3D array, 123 is value at front, 456 values at back"
   ]
  },
  {
   "cell_type": "markdown",
   "id": "9aecc430-114b-4795-aafc-207fe6a1fc6f",
   "metadata": {},
   "source": [
    "Indexing \n",
    "# https://www.w3schools.com/python/numpy/numpy_array_indexing.asp"
   ]
  },
  {
   "cell_type": "code",
   "execution_count": 8,
   "id": "92957c39-e350-432f-a854-c88d04156e45",
   "metadata": {},
   "outputs": [
    {
     "name": "stdout",
     "output_type": "stream",
     "text": [
      "2\n"
     ]
    }
   ],
   "source": [
    "#How to get an element \n",
    "import numpy as np\n",
    "arr = np.array([1, 2, 3, 4])\n",
    "print(arr[1])"
   ]
  },
  {
   "cell_type": "code",
   "execution_count": 9,
   "id": "162a20e7-8a85-49c6-8f79-540f7e79aa76",
   "metadata": {},
   "outputs": [
    {
     "name": "stdout",
     "output_type": "stream",
     "text": [
      "2nd element on 1st row:  2\n"
     ]
    }
   ],
   "source": [
    "#Getting an elment in a 2D array [row, column]\n",
    "import numpy as np\n",
    "arr = np.array([\n",
    "                [1,2,3,4,5], \n",
    "                [6,7,8,9,10]\n",
    "               ])\n",
    "print('2nd element on 1st row: ', arr[0, 1])\n"
   ]
  },
  {
   "cell_type": "code",
   "execution_count": 14,
   "id": "064ca812-42b2-440e-9c7c-2e05d5c1e4d2",
   "metadata": {},
   "outputs": [
    {
     "name": "stdout",
     "output_type": "stream",
     "text": [
      "6\n"
     ]
    }
   ],
   "source": [
    "#Getting an element in a 3D array\n",
    "import numpy as np\n",
    "arr = np.array([\n",
    "                [ [1, 2, 3],[4, 5, 6] ], #Array 0\n",
    "                [ [7, 8, 9],[10, 11, 12] ] # Array 1\n",
    "               ])\n",
    "print(arr[0, 1, 2])"
   ]
  },
  {
   "cell_type": "markdown",
   "id": "7d690dc3-f69a-4366-99e6-8812b1e4d0f5",
   "metadata": {},
   "source": [
    "Example Explained\n",
    "arr[0, 1, 2] prints the value 6.\n",
    "\n",
    "And this is why:\n",
    "\n",
    "The first number represents the first dimension, which contains two arrays:\n",
    "[[1, 2, 3], [4, 5, 6]]\n",
    "and:\n",
    "[[7, 8, 9], [10, 11, 12]]\n",
    "Since we selected 0, we are left with the first array:\n",
    "[[1, 2, 3], [4, 5, 6]]\n",
    "\n",
    "The second number represents the second dimension, which also contains two arrays:\n",
    "[1, 2, 3]\n",
    "and:\n",
    "[4, 5, 6]\n",
    "Since we selected 1, we are left with the second array:\n",
    "[4, 5, 6]\n",
    "\n",
    "The third number represents the third dimension, which contains three values:\n",
    "4\n",
    "5\n",
    "6\n",
    "Since we selected 2, we end up with the third value:\n",
    "6"
   ]
  },
  {
   "cell_type": "code",
   "execution_count": 18,
   "id": "2d9526fd-564d-4adc-85c7-fac10e79a97a",
   "metadata": {},
   "outputs": [
    {
     "name": "stdout",
     "output_type": "stream",
     "text": [
      "Last element from 2nd dim:  10\n"
     ]
    }
   ],
   "source": [
    "import numpy as np\n",
    "arr = np.array([\n",
    "              [1,2,3,4,5], # Array 0\n",
    "              [6,7,8,9,10] # Array 1\n",
    "             ])\n",
    "print('Last element from 2nd dim: ', arr[1, -1]) # (Array 1, last value in array)"
   ]
  },
  {
   "cell_type": "markdown",
   "id": "37a56f88-959c-4dac-a692-b75a2b1f97ad",
   "metadata": {},
   "source": [
    "Slicing \n",
    "\n",
    "https://www.w3schools.com/python/numpy/numpy_array_slicing.asp\n",
    "Slicing in python means taking elements from one given index to another given index.\n",
    "We pass slice instead of index like this: [start:end].\n",
    "We can also define the step, like this: [start:end:step]\n",
    "\n",
    "If we don't pass start its considered 0\n",
    "If we don't pass end its considered length of array in that dimension\n",
    "If we don't pass step its considered 1"
   ]
  },
  {
   "cell_type": "code",
   "execution_count": 19,
   "id": "e66bc2ab-5bdc-4e03-805d-24fa1e0ddd66",
   "metadata": {},
   "outputs": [
    {
     "name": "stdout",
     "output_type": "stream",
     "text": [
      "[2 3 4 5]\n"
     ]
    }
   ],
   "source": [
    "import numpy as np\n",
    "arr = np.array([1, 2, 3, 4, 5, 6, 7])\n",
    "print(arr[1:5])\n"
   ]
  },
  {
   "cell_type": "code",
   "execution_count": 21,
   "id": "a79b1792-d723-4b7d-b33a-d11daeaf2e0c",
   "metadata": {},
   "outputs": [
    {
     "name": "stdout",
     "output_type": "stream",
     "text": [
      "[5 6 7]\n"
     ]
    }
   ],
   "source": [
    "arr = np.array([1, 2, 3, 4, 5, 6, 7])\n",
    "print(arr[4:])"
   ]
  },
  {
   "cell_type": "code",
   "execution_count": 22,
   "id": "6bd413d1-a626-4770-8949-c871dadf198c",
   "metadata": {},
   "outputs": [
    {
     "name": "stdout",
     "output_type": "stream",
     "text": [
      "[1 2 3 4]\n"
     ]
    }
   ],
   "source": [
    "print(arr[:4])"
   ]
  },
  {
   "cell_type": "code",
   "execution_count": 25,
   "id": "ca0c63d6-0b3f-422d-abf7-f37a82c3add3",
   "metadata": {},
   "outputs": [
    {
     "name": "stdout",
     "output_type": "stream",
     "text": [
      "[2 4]\n",
      "[2 4 6]\n"
     ]
    }
   ],
   "source": [
    "#Specify range to print and gaps to count\n",
    "arr = np.array([1, 2, 3, 4, 5, 6, 7])\n",
    "print(arr[1:5:2])\n",
    "print(arr[1:6:2])"
   ]
  },
  {
   "cell_type": "code",
   "execution_count": null,
   "id": "4a0d9a9a-8772-40bc-b636-60407c5c52e4",
   "metadata": {},
   "outputs": [],
   "source": [
    "Data Types\n",
    "\n",
    "i - integer\n",
    "b - boolean\n",
    "u - unsigned integer\n",
    "f - float\n",
    "c - complex float\n",
    "m - timedelta\n",
    "M - datetime\n",
    "O - object\n",
    "S - string\n",
    "U - unicode string\n",
    "V - fixed chunk of memory for other type ( void )"
   ]
  },
  {
   "cell_type": "code",
   "execution_count": 26,
   "id": "26ea5262-8155-4b90-9b0d-0da6fdaa000b",
   "metadata": {},
   "outputs": [
    {
     "name": "stdout",
     "output_type": "stream",
     "text": [
      "<U6\n"
     ]
    }
   ],
   "source": [
    "#Get the data type of an array containing strings:\n",
    "import numpy as np\n",
    "arr = np.array(['apple', 'banana', 'cherry'])\n",
    "print(arr.dtype)"
   ]
  },
  {
   "cell_type": "code",
   "execution_count": 27,
   "id": "2b6d40c4-7f8c-4a89-8808-0d2e9802b163",
   "metadata": {},
   "outputs": [
    {
     "name": "stdout",
     "output_type": "stream",
     "text": [
      "[b'1' b'2' b'3' b'4']\n",
      "|S1\n"
     ]
    }
   ],
   "source": [
    "#Creating Arrays With a Defined Data Type\n",
    "import numpy as np\n",
    "arr = np.array([1, 2, 3, 4], dtype='S')\n",
    "print(arr)\n",
    "print(arr.dtype)"
   ]
  },
  {
   "cell_type": "code",
   "execution_count": 28,
   "id": "f3974d1e-76e3-4079-8541-062b22dd5741",
   "metadata": {},
   "outputs": [
    {
     "name": "stdout",
     "output_type": "stream",
     "text": [
      "[1 2 3]\n",
      "int32\n"
     ]
    }
   ],
   "source": [
    "#Convert a current array by copying it\n",
    "import numpy as np\n",
    "arr = np.array([1.1, 2.1, 3.1])\n",
    "newarr = arr.astype('i')\n",
    "print(newarr)\n",
    "print(newarr.dtype)"
   ]
  },
  {
   "cell_type": "markdown",
   "id": "c829f269-704c-4433-8fe7-a931e53ddae7",
   "metadata": {},
   "source": [
    "Difference between copy and view \n",
    "\n",
    "Copy is a new array, and the view is just a view of the original array.\n",
    "Copy owns the data and any changes made to the copy will not affect original array\n",
    "Changes made to the original array will not affect the copy.\n",
    "\n",
    "View does not own the data and any changes made to the view will affect the original array.\n",
    "Any changes made to the original array will affect the view."
   ]
  },
  {
   "cell_type": "markdown",
   "id": "6c1a4a2b-750e-444b-a965-ff4a9f6e06f3",
   "metadata": {},
   "source": [
    "NumPy Array Copy vs View\n",
    "#https://www.w3schools.com/python/numpy/numpy_copy_vs_view.asp"
   ]
  },
  {
   "cell_type": "code",
   "execution_count": 29,
   "id": "9f15ac6d-c757-4d13-bd04-9d82594041e4",
   "metadata": {},
   "outputs": [
    {
     "name": "stdout",
     "output_type": "stream",
     "text": [
      "[42  2  3  4  5]\n",
      "[1 2 3 4 5]\n"
     ]
    }
   ],
   "source": [
    "#Copy \n",
    "import numpy as np\n",
    "\n",
    "arr = np.array([1, 2, 3, 4, 5])\n",
    "x = arr.copy()\n",
    "arr[0] = 42\n",
    "\n",
    "print(arr)\n",
    "print(x)\n"
   ]
  },
  {
   "cell_type": "code",
   "execution_count": 30,
   "id": "7e94328f-336b-45c6-a103-ba320a9126ec",
   "metadata": {},
   "outputs": [
    {
     "name": "stdout",
     "output_type": "stream",
     "text": [
      "[42  2  3  4  5]\n",
      "[42  2  3  4  5]\n"
     ]
    }
   ],
   "source": [
    "#View - make changes to original\n",
    "import numpy as np\n",
    "\n",
    "arr = np.array([1, 2, 3, 4, 5])\n",
    "x = arr.view()\n",
    "arr[0] = 42\n",
    "\n",
    "print(arr)\n",
    "print(x)"
   ]
  },
  {
   "cell_type": "code",
   "execution_count": 31,
   "id": "ede70d7f-aa08-4618-ba05-ee2bffc5bd3b",
   "metadata": {},
   "outputs": [
    {
     "name": "stdout",
     "output_type": "stream",
     "text": [
      "[31  2  3  4  5]\n",
      "[31  2  3  4  5]\n"
     ]
    }
   ],
   "source": [
    "#View - make changes to view\n",
    "import numpy as np\n",
    "\n",
    "arr = np.array([1, 2, 3, 4, 5])\n",
    "x = arr.view()\n",
    "x[0] = 31\n",
    "\n",
    "print(arr)\n",
    "print(x)"
   ]
  },
  {
   "cell_type": "code",
   "execution_count": 1,
   "id": "d8ace58e-91b2-4508-ac37-afa9391f0498",
   "metadata": {},
   "outputs": [
    {
     "name": "stdout",
     "output_type": "stream",
     "text": [
      "None\n",
      "[1 2 3 4 5]\n"
     ]
    }
   ],
   "source": [
    "#Check if Array Owns its Data\n",
    "import numpy as np\n",
    "\n",
    "arr = np.array([1, 2, 3, 4, 5])\n",
    "\n",
    "x = arr.copy()\n",
    "y = arr.view()\n",
    "\n",
    "print(x.base)\n",
    "print(y.base)"
   ]
  },
  {
   "cell_type": "markdown",
   "id": "55459a7e-1ea6-46dc-8ff3-73c4c676b9ba",
   "metadata": {},
   "source": [
    "NumPy Array Shape\n",
    "https://www.w3schools.com/python/numpy/numpy_array_shape.asp"
   ]
  },
  {
   "cell_type": "code",
   "execution_count": 2,
   "id": "7d7b5d2e-3f2f-4a19-9139-c3b8e34a8f65",
   "metadata": {},
   "outputs": [
    {
     "name": "stdout",
     "output_type": "stream",
     "text": [
      "(2, 4)\n"
     ]
    }
   ],
   "source": [
    "arr = np.array([[1, 2, 3, 4], [5, 6, 7, 8]])\n",
    "print(arr.shape)"
   ]
  },
  {
   "cell_type": "markdown",
   "id": "d3842a8d-552a-4dee-a00c-e163ce75748e",
   "metadata": {},
   "source": [
    "Reshaping arrays"
   ]
  },
  {
   "cell_type": "code",
   "execution_count": 3,
   "id": "698c2119-f171-4571-8074-693b71fb124f",
   "metadata": {},
   "outputs": [
    {
     "name": "stdout",
     "output_type": "stream",
     "text": [
      "[[ 1  2  3]\n",
      " [ 4  5  6]\n",
      " [ 7  8  9]\n",
      " [10 11 12]]\n"
     ]
    }
   ],
   "source": [
    "#Reshape From 1-D to 3-D\n",
    "arr = np.array([1, 2, 3, 4, 5, 6, 7, 8, 9, 10, 11, 12])\n",
    "newarr = arr.reshape(4, 3)\n",
    "print(newarr)"
   ]
  },
  {
   "cell_type": "markdown",
   "id": "09b5810c-2e8d-45f7-81c6-b362287fe9b4",
   "metadata": {},
   "source": [
    "Iterating Arrays"
   ]
  },
  {
   "cell_type": "code",
   "execution_count": 4,
   "id": "6d9d6b1e-2520-42c2-b627-d9d5df9f70ce",
   "metadata": {},
   "outputs": [
    {
     "name": "stdout",
     "output_type": "stream",
     "text": [
      "1\n",
      "2\n",
      "3\n"
     ]
    }
   ],
   "source": [
    "# https://www.w3schools.com/python/numpy/numpy_array_iterating.asp\n",
    "arr = np.array([1, 2, 3])\n",
    "for x in arr:\n",
    "  print(x)"
   ]
  },
  {
   "cell_type": "code",
   "execution_count": null,
   "id": "3c5f1627-b327-4355-9e51-708f656e577d",
   "metadata": {},
   "outputs": [],
   "source": [
    "NumPy Joining Array"
   ]
  },
  {
   "cell_type": "code",
   "execution_count": 5,
   "id": "573d7a8d-bd11-400b-bde4-ecc011028a7c",
   "metadata": {},
   "outputs": [
    {
     "name": "stdout",
     "output_type": "stream",
     "text": [
      "[1 2 3 4 5 6]\n"
     ]
    }
   ],
   "source": [
    "#https://www.w3schools.com/python/numpy/numpy_array_join.asp\n",
    "arr1 = np.array([1, 2, 3])\n",
    "arr2 = np.array([4, 5, 6])\n",
    "arr = np.concatenate((arr1, arr2))\n",
    "print(arr)"
   ]
  },
  {
   "cell_type": "code",
   "execution_count": 6,
   "id": "ef9ee96e-5817-4699-81a2-49813ff4e207",
   "metadata": {},
   "outputs": [
    {
     "name": "stdout",
     "output_type": "stream",
     "text": [
      "[1 2 3 4 5 6]\n"
     ]
    }
   ],
   "source": [
    "#Stacking Along Rows\n",
    "arr1 = np.array([1, 2, 3])\n",
    "arr2 = np.array([4, 5, 6])\n",
    "arr = np.hstack((arr1, arr2))\n",
    "print(arr)"
   ]
  },
  {
   "cell_type": "markdown",
   "id": "2957f6f9-675d-4c79-9d43-490810e4e46e",
   "metadata": {},
   "source": [
    "NumPy Splitting Array"
   ]
  },
  {
   "cell_type": "code",
   "execution_count": 7,
   "id": "4a550665-853f-4a3b-9bfc-74c5497a4a8a",
   "metadata": {},
   "outputs": [
    {
     "name": "stdout",
     "output_type": "stream",
     "text": [
      "[array([1, 2]), array([3, 4]), array([5, 6])]\n"
     ]
    }
   ],
   "source": [
    "#Joining merges multiple arrays into one and Splitting breaks one array into multiple.\n",
    "\n",
    "arr = np.array([1, 2, 3, 4, 5, 6])\n",
    "newarr = np.array_split(arr, 3)\n",
    "print(newarr)"
   ]
  },
  {
   "cell_type": "code",
   "execution_count": null,
   "id": "91546e9c-e807-4df1-a21e-902186e1bcfa",
   "metadata": {},
   "outputs": [],
   "source": [
    "NumPy Searching Arrays"
   ]
  },
  {
   "cell_type": "code",
   "execution_count": 8,
   "id": "3a4d1c2f-1cff-418f-b342-2fe56764c91f",
   "metadata": {},
   "outputs": [
    {
     "name": "stdout",
     "output_type": "stream",
     "text": [
      "(array([3, 5, 6], dtype=int64),)\n"
     ]
    }
   ],
   "source": [
    "#search an array for a certain value, and return the indexes that get a match\n",
    "arr = np.array([1, 2, 3, 4, 5, 4, 4])\n",
    "x = np.where(arr == 4)\n",
    "print(x)"
   ]
  },
  {
   "cell_type": "code",
   "execution_count": 9,
   "id": "851ce611-e8b8-4a27-a299-cfa6feae9bc0",
   "metadata": {},
   "outputs": [
    {
     "name": "stdout",
     "output_type": "stream",
     "text": [
      "(array([0, 2, 4, 6], dtype=int64),)\n"
     ]
    }
   ],
   "source": [
    "#Find the indexes where the values are odd:\n",
    "arr = np.array([1, 2, 3, 4, 5, 6, 7, 8])\n",
    "x = np.where(arr%2 == 1)\n",
    "print(x)"
   ]
  },
  {
   "cell_type": "markdown",
   "id": "461ab64f-3c09-49b5-8449-1132c028a370",
   "metadata": {},
   "source": [
    "NumPy Sorting Arrays"
   ]
  },
  {
   "cell_type": "code",
   "execution_count": 10,
   "id": "ce6365ad-0917-477a-9501-b8b4358dfd04",
   "metadata": {},
   "outputs": [
    {
     "name": "stdout",
     "output_type": "stream",
     "text": [
      "[0 1 2 3]\n"
     ]
    }
   ],
   "source": [
    "# Sorting means putting elements in an ordered sequence.\n",
    "# Ordered sequence is any sequence that has an order corresponding to elements, like numeric or alphabetical, ascending or descending.\n",
    "\n",
    "arr = np.array([3, 2, 0, 1])\n",
    "print(np.sort(arr))"
   ]
  },
  {
   "cell_type": "code",
   "execution_count": 11,
   "id": "127d7637-d02d-451d-bb48-b9b0d4c0ad5b",
   "metadata": {},
   "outputs": [
    {
     "name": "stdout",
     "output_type": "stream",
     "text": [
      "[[2 3 4]\n",
      " [0 1 5]]\n"
     ]
    }
   ],
   "source": [
    "#Sorting a 2-D Array\n",
    "# If you use the sort() method on a 2-D array, both arrays will be sorted:\n",
    "\n",
    "arr = np.array([[3, 2, 4], [5, 0, 1]])\n",
    "print(np.sort(arr))"
   ]
  },
  {
   "cell_type": "markdown",
   "id": "14b5b77d-4093-48ce-881c-f77a334d089e",
   "metadata": {},
   "source": [
    "NumPy Filter Array"
   ]
  },
  {
   "cell_type": "code",
   "execution_count": 12,
   "id": "1d634ef5-3b7b-4f80-ad90-7893019043d8",
   "metadata": {},
   "outputs": [
    {
     "name": "stdout",
     "output_type": "stream",
     "text": [
      "[41 43]\n"
     ]
    }
   ],
   "source": [
    "#https://www.w3schools.com/python/numpy/numpy_array_filter.asp\n",
    "\n",
    "# Getting some elements out of an existing array and creating a new array out of them is called filtering.\n",
    "# In NumPy, you filter an array using a boolean index list.\n",
    "\n",
    "arr = np.array([41, 42, 43, 44])\n",
    "x = [True, False, True, False]\n",
    "newarr = arr[x]\n",
    "print(newarr)\n",
    "\n",
    "#Result\n",
    "# If the value at an index is True that element is contained in the filtered array, \n",
    "# if the value at that index is False that element is excluded from the filtered array.\n",
    "# The example above will return [41, 43], why?\n",
    "# Because the new array contains only the values where the filter array had the value True, in this case, index 0 and 2."
   ]
  },
  {
   "cell_type": "code",
   "execution_count": 13,
   "id": "f51397d7-0d7a-49f0-a23e-49c634fb6889",
   "metadata": {},
   "outputs": [
    {
     "name": "stdout",
     "output_type": "stream",
     "text": [
      "[False, True, False, True, False, True, False]\n",
      "[2 4 6]\n"
     ]
    }
   ],
   "source": [
    "#Create a filter array that will return only even elements from the original array:\n",
    "\n",
    "import numpy as np\n",
    "arr = np.array([1, 2, 3, 4, 5, 6, 7])\n",
    "\n",
    "# Create an empty list\n",
    "filter_arr = []\n",
    "\n",
    "# go through each element in arr\n",
    "for element in arr:\n",
    "  # if the element is completely divisble by 2, set the value to True, otherwise False\n",
    "  if element % 2 == 0:\n",
    "    filter_arr.append(True)\n",
    "  else:\n",
    "    filter_arr.append(False)\n",
    "\n",
    "newarr = arr[filter_arr]\n",
    "\n",
    "print(filter_arr)\n",
    "print(newarr)"
   ]
  },
  {
   "cell_type": "code",
   "execution_count": 14,
   "id": "1ebd9dba-8821-4300-ba9c-059bfe5cc562",
   "metadata": {},
   "outputs": [
    {
     "name": "stdout",
     "output_type": "stream",
     "text": [
      "[False False  True  True]\n",
      "[43 44]\n"
     ]
    }
   ],
   "source": [
    "#Create a filter array that will return only values higher than 42:\n",
    "arr = np.array([41, 42, 43, 44])\n",
    "\n",
    "filter_arr = arr > 42\n",
    "\n",
    "newarr = arr[filter_arr]\n",
    "\n",
    "print(filter_arr)\n",
    "print(newarr)"
   ]
  },
  {
   "cell_type": "code",
   "execution_count": null,
   "id": "49d06210-e8ff-4b2c-88be-5f0330af0120",
   "metadata": {},
   "outputs": [],
   "source": []
  }
 ],
 "metadata": {
  "kernelspec": {
   "display_name": "Python 3 (ipykernel)",
   "language": "python",
   "name": "python3"
  },
  "language_info": {
   "codemirror_mode": {
    "name": "ipython",
    "version": 3
   },
   "file_extension": ".py",
   "mimetype": "text/x-python",
   "name": "python",
   "nbconvert_exporter": "python",
   "pygments_lexer": "ipython3",
   "version": "3.12.7"
  }
 },
 "nbformat": 4,
 "nbformat_minor": 5
}
