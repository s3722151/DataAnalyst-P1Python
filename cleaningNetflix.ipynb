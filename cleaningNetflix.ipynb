{
 "cells": [
  {
   "cell_type": "code",
   "execution_count": 2,
   "id": "ff90173d-216b-437a-aaa5-d9b8a5d89df0",
   "metadata": {},
   "outputs": [],
   "source": [
    "#Stage 1: Get necessary packages\n",
    "# https://pandas.pydata.org/docs/user_guide/style.html\n",
    "import pandas as pd\n",
    "import numpy as np\n",
    "import matplotlib as mpl"
   ]
  },
  {
   "cell_type": "code",
   "execution_count": 3,
   "id": "18d503da-7091-41d7-86b4-77b633cc7471",
   "metadata": {},
   "outputs": [
    {
     "name": "stdout",
     "output_type": "stream",
     "text": [
      "  show_id     type                  title         director  \\\n",
      "0      s1    Movie   Dick Johnson Is Dead  Kirsten Johnson   \n",
      "1      s2  TV Show          Blood & Water              NaN   \n",
      "2      s3  TV Show              Ganglands  Julien Leclercq   \n",
      "3      s4  TV Show  Jailbirds New Orleans              NaN   \n",
      "4      s5  TV Show           Kota Factory              NaN   \n",
      "\n",
      "                                                cast        country  \\\n",
      "0                                                NaN  United States   \n",
      "1  Ama Qamata, Khosi Ngema, Gail Mabalane, Thaban...   South Africa   \n",
      "2  Sami Bouajila, Tracy Gotoas, Samuel Jouy, Nabi...            NaN   \n",
      "3                                                NaN            NaN   \n",
      "4  Mayur More, Jitendra Kumar, Ranjan Raj, Alam K...          India   \n",
      "\n",
      "           date_added  release_year rating   duration  \\\n",
      "0  September 25, 2021          2020  PG-13     90 min   \n",
      "1  September 24, 2021          2021  TV-MA  2 Seasons   \n",
      "2  September 24, 2021          2021  TV-MA   1 Season   \n",
      "3  September 24, 2021          2021  TV-MA   1 Season   \n",
      "4  September 24, 2021          2021  TV-MA  2 Seasons   \n",
      "\n",
      "                                           listed_in  \\\n",
      "0                                      Documentaries   \n",
      "1    International TV Shows, TV Dramas, TV Mysteries   \n",
      "2  Crime TV Shows, International TV Shows, TV Act...   \n",
      "3                             Docuseries, Reality TV   \n",
      "4  International TV Shows, Romantic TV Shows, TV ...   \n",
      "\n",
      "                                         description  \n",
      "0  As her father nears the end of his life, filmm...  \n",
      "1  After crossing paths at a party, a Cape Town t...  \n",
      "2  To protect his family from a powerful drug lor...  \n",
      "3  Feuds, flirtations and toilet talk go down amo...  \n",
      "4  In a city of coaching centers known to train I...  \n"
     ]
    }
   ],
   "source": [
    "# creating a data frame \n",
    "dfNetflix = pd.read_csv(\"netflix_titles.csv\") \n",
    "print(dfNetflix.head()) "
   ]
  },
  {
   "cell_type": "code",
   "execution_count": 4,
   "id": "63ac62a1-08c9-4ce2-8343-533c09cd13ca",
   "metadata": {},
   "outputs": [
    {
     "name": "stdout",
     "output_type": "stream",
     "text": [
      "<class 'pandas.core.frame.DataFrame'>\n",
      "RangeIndex: 8807 entries, 0 to 8806\n",
      "Data columns (total 12 columns):\n",
      " #   Column        Non-Null Count  Dtype \n",
      "---  ------        --------------  ----- \n",
      " 0   show_id       8807 non-null   object\n",
      " 1   type          8807 non-null   object\n",
      " 2   title         8807 non-null   object\n",
      " 3   director      6173 non-null   object\n",
      " 4   cast          7982 non-null   object\n",
      " 5   country       7976 non-null   object\n",
      " 6   date_added    8797 non-null   object\n",
      " 7   release_year  8807 non-null   int64 \n",
      " 8   rating        8803 non-null   object\n",
      " 9   duration      8804 non-null   object\n",
      " 10  listed_in     8807 non-null   object\n",
      " 11  description   8807 non-null   object\n",
      "dtypes: int64(1), object(11)\n",
      "memory usage: 825.8+ KB\n",
      "None\n"
     ]
    }
   ],
   "source": [
    "#See general information about dataset\n",
    "print(dfNetflix.info()) \n",
    "\n",
    "#Here we can see that columns director, cast, country, date_added, rating, duration, have null values which we should remove"
   ]
  },
  {
   "cell_type": "code",
   "execution_count": 5,
   "id": "f02d530d-e953-4003-b93c-9fb5bc80ffb9",
   "metadata": {},
   "outputs": [
    {
     "name": "stdout",
     "output_type": "stream",
     "text": [
      "     show_id     type                          title             director  \\\n",
      "7         s8    Movie                        Sankofa         Haile Gerima   \n",
      "8         s9  TV Show  The Great British Baking Show      Andy Devonshire   \n",
      "9        s10    Movie                   The Starling       Theodore Melfi   \n",
      "12       s13    Movie                   Je Suis Karl  Christian Schwochow   \n",
      "24       s25    Movie                          Jeans           S. Shankar   \n",
      "...      ...      ...                            ...                  ...   \n",
      "8801   s8802    Movie                        Zinzana      Majid Al Ansari   \n",
      "8802   s8803    Movie                         Zodiac        David Fincher   \n",
      "8804   s8805    Movie                     Zombieland      Ruben Fleischer   \n",
      "8805   s8806    Movie                           Zoom         Peter Hewitt   \n",
      "8806   s8807    Movie                         Zubaan          Mozez Singh   \n",
      "\n",
      "                                                   cast  \\\n",
      "7     Kofi Ghanaba, Oyafunmike Ogunlano, Alexandra D...   \n",
      "8     Mel Giedroyc, Sue Perkins, Mary Berry, Paul Ho...   \n",
      "9     Melissa McCarthy, Chris O'Dowd, Kevin Kline, T...   \n",
      "12    Luna Wedler, Jannis Niewöhner, Milan Peschel, ...   \n",
      "24    Prashanth, Aishwarya Rai Bachchan, Sri Lakshmi...   \n",
      "...                                                 ...   \n",
      "8801  Ali Suliman, Saleh Bakri, Yasa, Ali Al-Jabri, ...   \n",
      "8802  Mark Ruffalo, Jake Gyllenhaal, Robert Downey J...   \n",
      "8804  Jesse Eisenberg, Woody Harrelson, Emma Stone, ...   \n",
      "8805  Tim Allen, Courteney Cox, Chevy Chase, Kate Ma...   \n",
      "8806  Vicky Kaushal, Sarah-Jane Dias, Raaghav Chanan...   \n",
      "\n",
      "                                                country          date_added  \\\n",
      "7     United States, Ghana, Burkina Faso, United Kin...  September 24, 2021   \n",
      "8                                        United Kingdom  September 24, 2021   \n",
      "9                                         United States  September 24, 2021   \n",
      "12                              Germany, Czech Republic  September 23, 2021   \n",
      "24                                                India  September 21, 2021   \n",
      "...                                                 ...                 ...   \n",
      "8801                       United Arab Emirates, Jordan       March 9, 2016   \n",
      "8802                                      United States   November 20, 2019   \n",
      "8804                                      United States    November 1, 2019   \n",
      "8805                                      United States    January 11, 2020   \n",
      "8806                                              India       March 2, 2019   \n",
      "\n",
      "      release_year rating   duration  \\\n",
      "7             1993  TV-MA    125 min   \n",
      "8             2021  TV-14  9 Seasons   \n",
      "9             2021  PG-13    104 min   \n",
      "12            2021  TV-MA    127 min   \n",
      "24            1998  TV-14    166 min   \n",
      "...            ...    ...        ...   \n",
      "8801          2015  TV-MA     96 min   \n",
      "8802          2007      R    158 min   \n",
      "8804          2009      R     88 min   \n",
      "8805          2006     PG     88 min   \n",
      "8806          2015  TV-14    111 min   \n",
      "\n",
      "                                             listed_in  \\\n",
      "7     Dramas, Independent Movies, International Movies   \n",
      "8                         British TV Shows, Reality TV   \n",
      "9                                     Comedies, Dramas   \n",
      "12                        Dramas, International Movies   \n",
      "24     Comedies, International Movies, Romantic Movies   \n",
      "...                                                ...   \n",
      "8801           Dramas, International Movies, Thrillers   \n",
      "8802                    Cult Movies, Dramas, Thrillers   \n",
      "8804                           Comedies, Horror Movies   \n",
      "8805                Children & Family Movies, Comedies   \n",
      "8806    Dramas, International Movies, Music & Musicals   \n",
      "\n",
      "                                            description  \n",
      "7     On a photo shoot in Ghana, an American model s...  \n",
      "8     A talented batch of amateur bakers face off in...  \n",
      "9     A woman adjusting to life after a loss contend...  \n",
      "12    After most of her family is murdered in a terr...  \n",
      "24    When the father of the man she loves insists t...  \n",
      "...                                                 ...  \n",
      "8801  Recovering alcoholic Talal wakes up inside a s...  \n",
      "8802  A political cartoonist, a crime reporter and a...  \n",
      "8804  Looking to survive in a world taken over by zo...  \n",
      "8805  Dragged from civilian life, a former superhero...  \n",
      "8806  A scrappy but poor boy worms his way into a ty...  \n",
      "\n",
      "[5332 rows x 12 columns]\n"
     ]
    }
   ],
   "source": [
    "#One way of removing empty cells\n",
    "# Make new dataframe that drops all the columns that are empty\n",
    "new_df = dfNetflix.dropna()\n",
    "print(new_df)"
   ]
  },
  {
   "cell_type": "code",
   "execution_count": 6,
   "id": "bd0ecfa4-b2a5-4026-b495-61bd6e36f712",
   "metadata": {},
   "outputs": [
    {
     "name": "stdout",
     "output_type": "stream",
     "text": [
      "<class 'pandas.core.frame.DataFrame'>\n",
      "Index: 5332 entries, 7 to 8806\n",
      "Data columns (total 12 columns):\n",
      " #   Column        Non-Null Count  Dtype \n",
      "---  ------        --------------  ----- \n",
      " 0   show_id       5332 non-null   object\n",
      " 1   type          5332 non-null   object\n",
      " 2   title         5332 non-null   object\n",
      " 3   director      5332 non-null   object\n",
      " 4   cast          5332 non-null   object\n",
      " 5   country       5332 non-null   object\n",
      " 6   date_added    5332 non-null   object\n",
      " 7   release_year  5332 non-null   int64 \n",
      " 8   rating        5332 non-null   object\n",
      " 9   duration      5332 non-null   object\n",
      " 10  listed_in     5332 non-null   object\n",
      " 11  description   5332 non-null   object\n",
      "dtypes: int64(1), object(11)\n",
      "memory usage: 541.5+ KB\n",
      "None\n"
     ]
    }
   ],
   "source": [
    "print(new_df.info())\n",
    "# 3 eights (3/8) of the dataset is removed so we may need to find other ways to clean data"
   ]
  },
  {
   "cell_type": "markdown",
   "id": "5a514703-6c1a-4bc3-87c7-9133c129a08d",
   "metadata": {},
   "source": [
    "Looking at data that is blank (Excel)\n",
    "- Type of show: No blanks, so columns are fine \n",
    "- Title: 2 rows are written as dates so can remove. \n",
    "- Director: Lof of blanks so I cannot remove the row. Also it is possible that aa director can be uncredited.\n",
    "- Cast: A lot of blanks. However this is compulsorary so remove.\n",
    "- Date: 1 blank Tv show removed, 3 dates formatted wrong and can correct\n",
    "- Release: Data column is fine \n",
    "- Rating: 1 blank rating remove\n",
    "- Duration: Data is fine as in minutes. \n",
    "- Listed_in is fine \n",
    "- Description is fine. Even if it was blank it wouuldn't be needed to removed.\n",
    "Made the determination that mean, median and mode don't need to be used here\n",
    "Need to check if there is duplicated values in based on title."
   ]
  },
  {
   "cell_type": "code",
   "execution_count": 7,
   "id": "40ddb8e4-3c49-4400-a15f-81f3821bc6f4",
   "metadata": {},
   "outputs": [],
   "source": [
    "#Cleaning specified areas\n",
    "#https://www.w3schools.com/python/pandas/pandas_cleaning_empty_cells.asp\n",
    "\n",
    "#Remove blank for Directors\n",
    "# Drop rows where 'director' is NaN and 'type' is \"Movie\"\n",
    "dfNetflix = dfNetflix[~((dfNetflix['director'].isna()) & (dfNetflix['type'] == \"Movie\"))]"
   ]
  },
  {
   "cell_type": "code",
   "execution_count": 8,
   "id": "2a5f517e-5442-4345-bd90-127981da9962",
   "metadata": {},
   "outputs": [
    {
     "data": {
      "text/plain": [
       "0        Dick Johnson Is Dead\n",
       "1               Blood & Water\n",
       "2                   Ganglands\n",
       "3       Jailbirds New Orleans\n",
       "4                Kota Factory\n",
       "                ...          \n",
       "8802                   Zodiac\n",
       "8803              Zombie Dumb\n",
       "8804               Zombieland\n",
       "8805                     Zoom\n",
       "8806                   Zubaan\n",
       "Name: title, Length: 8619, dtype: object"
      ]
     },
     "execution_count": 8,
     "metadata": {},
     "output_type": "execute_result"
    }
   ],
   "source": [
    "dfNetflix['title'] .dropna()"
   ]
  },
  {
   "cell_type": "code",
   "execution_count": 17,
   "id": "80c1ed3d-bc1e-45c2-94b6-5a650eb63150",
   "metadata": {},
   "outputs": [],
   "source": [
    "# List of titles to keep\n",
    "titles_to_drop = ['8/15/2025', '2/9/2025', '7/22/2025', '10/1/2025', '2/9/2025', '7/22/2025', '8/15/2025']\n",
    "\n",
    "# Drop rows where the title is in the list\n",
    "dfNetflix = dfNetflix[~dfNetflix['title'].isin(titles_to_drop)].dropna()"
   ]
  },
  {
   "cell_type": "code",
   "execution_count": null,
   "id": "7470c3be-d8c3-4530-a214-2703ca5a87ea",
   "metadata": {},
   "outputs": [],
   "source": [
    "dfNetflix['cast'] .dropna()"
   ]
  },
  {
   "cell_type": "code",
   "execution_count": null,
   "id": "6f84b38a-b396-4a12-bbed-44c12e61aac1",
   "metadata": {},
   "outputs": [],
   "source": [
    "dfNetflix['date_added'] .dropna()"
   ]
  },
  {
   "cell_type": "code",
   "execution_count": 18,
   "id": "2e23105b-6a21-447d-8639-f50b43e4bb07",
   "metadata": {},
   "outputs": [
    {
     "name": "stdout",
     "output_type": "stream",
     "text": [
      "Series([], dtype: bool)\n"
     ]
    }
   ],
   "source": [
    "#Find Duplicates\n",
    "#https://www.w3schools.com/python/pandas/trypandas.asp?filename=demo_pandas_cleaning_duplicated\n",
    "\n",
    "print(dfNetflix.duplicated())\n",
    "#This refers to TV shows but we are okay "
   ]
  },
  {
   "cell_type": "code",
   "execution_count": null,
   "id": "6582076f-eb8c-43b6-8c5c-76c9d81e4cd5",
   "metadata": {},
   "outputs": [],
   "source": []
  }
 ],
 "metadata": {
  "kernelspec": {
   "display_name": "Python 3 (ipykernel)",
   "language": "python",
   "name": "python3"
  },
  "language_info": {
   "codemirror_mode": {
    "name": "ipython",
    "version": 3
   },
   "file_extension": ".py",
   "mimetype": "text/x-python",
   "name": "python",
   "nbconvert_exporter": "python",
   "pygments_lexer": "ipython3",
   "version": "3.12.7"
  }
 },
 "nbformat": 4,
 "nbformat_minor": 5
}
